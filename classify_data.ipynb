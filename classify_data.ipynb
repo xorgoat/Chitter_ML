{
 "cells": [
  {
   "cell_type": "code",
   "execution_count": 26,
   "id": "550aac22",
   "metadata": {},
   "outputs": [],
   "source": [
    "#basic libraries\n",
    "import joblib\n",
    "# import pandas as pd\n",
    "import numpy as np\n",
    "# import matplotlib.pyplot as plt\n",
    "import matplotlib.image as mpimg\n",
    "import os\n",
    "\n",
    "#for images\n",
    "# from sklearn.utils import shuffle\n",
    "from sklearn.decomposition import PCA\n",
    "from skimage.transform import resize\n",
    "\n",
    "#Model\n",
    "from sklearn.neighbors import KNeighborsClassifier\n",
    "from sklearn.linear_model import LogisticRegression\n",
    "\n",
    "#take input in form of (path to image file, text saying what classifier should be used (i.e. bird_audio, bird_image, insect_audio, insect_image))\n",
    "def classify(image_path, classifier):\n",
    "    #load saved model\n",
    "    model = joblib.load(classifier + \"_model.pkl\")\n",
    "    \n",
    "    #do weird stuff to be able to resize image, do PCA, and input into model\n",
    "    img_path = image_path\n",
    "    img = mpimg.imread(img_path)\n",
    "    img = resize(img, (224,224))\n",
    "    img_np = np.array([img])\n",
    "    img_rs = img_np.reshape(1, 224 * 224 * 3)\n",
    "    pca = joblib.load(classifier + \"_pca.pkl\")\n",
    "    img_pca = pca.transform(img_rs)\n",
    "    \n",
    "    #return predicted class\n",
    "    return model.predict(img_pca)    "
   ]
  }
 ],
 "metadata": {
  "kernelspec": {
   "display_name": "Python 3 (ipykernel)",
   "language": "python",
   "name": "python3"
  },
  "language_info": {
   "codemirror_mode": {
    "name": "ipython",
    "version": 3
   },
   "file_extension": ".py",
   "mimetype": "text/x-python",
   "name": "python",
   "nbconvert_exporter": "python",
   "pygments_lexer": "ipython3",
   "version": "3.9.13"
  }
 },
 "nbformat": 4,
 "nbformat_minor": 5
}
