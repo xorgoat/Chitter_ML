{
 "cells": [
  {
   "cell_type": "code",
   "execution_count": 3,
   "id": "550aac22",
   "metadata": {},
   "outputs": [
    {
     "name": "stdout",
     "output_type": "stream",
     "text": [
      "['platypleuradeusta']\n"
     ]
    }
   ],
   "source": [
    "#basic libraries\n",
    "import joblib\n",
    "import numpy as np\n",
    "import matplotlib.image as mpimg\n",
    "import os\n",
    "\n",
    "#for images\n",
    "# from sklearn.utils import shuffle\n",
    "from sklearn.decomposition import PCA\n",
    "from skimage.transform import resize\n",
    "\n",
    "#Model\n",
    "from sklearn.neighbors import KNeighborsClassifier\n",
    "from sklearn.linear_model import LogisticRegression\n",
    "\n",
    "\n",
    "#take input in form of (path to data file, text saying what data_type should be used (i.e. bird_audio, bird_image, insect_audio, insect_image))\n",
    "def classify(data_path, data_type):\n",
    "    if not data_type in [\"bird_audio\", \"bird_image\", \"insect_audio\", \"insect_image\"]:\n",
    "        raise ValueError(\"Given data type must be one of: bird_audio, bird_image, insect_audio, insect_image\")\n",
    "    data_type = str(data_type)\n",
    "    #load saved model\n",
    "    model = joblib.load(data_type + \"_model.pkl\")\n",
    "    img_path = data_path\n",
    "    img = mpimg.imread(img_path)\n",
    "    \n",
    "    if data_type in [\"bird_audio\", \"insect_audio\"]:\n",
    "        try:\n",
    "            img = resize(img, (217, 334))\n",
    "            img_np = np.array([img])\n",
    "            img_rs = img_np.reshape(1, 217 * 334 * 4)\n",
    "        except:\n",
    "            raise Exception(\"Something went wrong, most likely the input spectrogram was of incorrect shape/dimensions.\")\n",
    "        \n",
    "    elif data_type in [\"bird_image\",\"insect_image\"]:\n",
    "        try:\n",
    "            img = resize(img, (224,224))\n",
    "            img_np = np.array([img])\n",
    "            img_rs = img_np.reshape(1, 224 * 224 * 3)\n",
    "        except:\n",
    "            raise Exception(\"Something went wrong, most likely the input image was of incorrect shape/dimensions.\")\n",
    "        \n",
    "    pca = joblib.load(data_type + \"_pca.pkl\")\n",
    "    img_pca = pca.transform(img_rs)\n",
    "    \n",
    "    #return predicted class\n",
    "    return model.predict(img_pca)   "
   ]
  }
 ],
 "metadata": {
  "kernelspec": {
   "display_name": "Python 3 (ipykernel)",
   "language": "python",
   "name": "python3"
  },
  "language_info": {
   "codemirror_mode": {
    "name": "ipython",
    "version": 3
   },
   "file_extension": ".py",
   "mimetype": "text/x-python",
   "name": "python",
   "nbconvert_exporter": "python",
   "pygments_lexer": "ipython3",
   "version": "3.9.7"
  }
 },
 "nbformat": 4,
 "nbformat_minor": 5
}
