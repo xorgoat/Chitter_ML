{
 "cells": [
  {
   "cell_type": "code",
   "execution_count": null,
   "id": "096c7dbb",
   "metadata": {},
   "outputs": [],
   "source": [
    "classifiers = {\"bird_image\":\"bird_image_model.pkl\", \"bird_audio\":\"bird_audio_model.pkl\", \"insect_image\":\"bird_image_model.pkl\", }\n",
    "\n",
    "def classify(image, classifier):\n",
    "    "
   ]
  }
 ],
 "metadata": {
  "kernelspec": {
   "display_name": "Python 3 (ipykernel)",
   "language": "python",
   "name": "python3"
  },
  "language_info": {
   "codemirror_mode": {
    "name": "ipython",
    "version": 3
   },
   "file_extension": ".py",
   "mimetype": "text/x-python",
   "name": "python",
   "nbconvert_exporter": "python",
   "pygments_lexer": "ipython3",
   "version": "3.9.13"
  }
 },
 "nbformat": 4,
 "nbformat_minor": 5
}
